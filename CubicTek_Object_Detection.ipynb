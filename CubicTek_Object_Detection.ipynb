version https://git-lfs.github.com/spec/v1
oid sha256:135e8b73ff9c22b92f5a4c93dfa297dab7f0d99e14e17af5177e806da4872548
size 849849
